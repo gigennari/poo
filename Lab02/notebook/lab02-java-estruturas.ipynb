{
 "cells": [
  {
   "cell_type": "markdown",
   "metadata": {},
   "source": [
    "# Laboratório em Estruturas de Programação Java\n",
    "\n",
    "O laboratório a seguir serve para praticar estruturas de programação Java sem compromisso com a orientação a objetos."
   ]
  },
  {
   "cell_type": "markdown",
   "metadata": {},
   "source": [
    "## Desafio 1 - Empréstimo\n",
    "\n",
    "Em um financiamento com juros compostos e número de parcelas fixas parte-se dos seguintes parâmetros:\n",
    "* `S` - valor da primeira parcela\n",
    "* `N` - número de parcelas\n",
    "* `J` - percentual de juros mensal\n",
    "\n",
    "A primeira parcela a ser paga do financiamento é sempre igual a `S`. A partir daí é feita uma atualização mensal da parcela, em que cada nova parcela é calculada a partir da parcela do mês anterior, conforme a fórmula:\n",
    "\n",
    "> Parcela<sub>mês</sub> = Parcela<sub>mês-1</sub> * (1 + `J` / 100)\n",
    "\n",
    "O financiamento encerra quando as `N` parcelas são pagas.\n",
    "\n",
    "Exemplo:\n",
    "* `S`: 200\n",
    "* `N`: 5\n",
    "* `J`: 1%\n",
    "\n",
    "Parcelas do financiamento:\n",
    "`200`; `202`; `204.02`; `206.06`; `208.12`"
   ]
  },
  {
   "cell_type": "markdown",
   "metadata": {},
   "source": [
    "### Desafio 1 / Parte 1 - Escrevendo o programa sem módulos\n",
    "\n",
    "Dado o problema descrito, escreva um programa que calcule as parcelas de um empréstimo para os seguintes valores:\n",
    "* S: 200\n",
    "* N: 5\n",
    "* J: 1%\n",
    "\n",
    "Nesta versão não use outro módulo além da função principal."
   ]
  },
  {
   "cell_type": "code",
   "execution_count": 1,
   "metadata": {},
   "outputs": [
    {
     "name": "stdout",
     "output_type": "stream",
     "text": [
      "200.0\n",
      "202.0\n",
      "204.02\n",
      "206.0602\n",
      "208.120802\n"
     ]
    },
    {
     "data": {
      "text/plain": [
       "null"
      ]
     },
     "execution_count": 1,
     "metadata": {},
     "output_type": "execute_result"
    }
   ],
   "source": [
    "double s = 200;\n",
    "double p_atual = s;\n",
    "double j = 0.01;\n",
    "int n = 5;\n",
    "\n",
    "for(int i = 0; i < n; i++){\n",
    "    if(i != 0){\n",
    "        p_atual = p_atual * (1 + j);\n",
    "    }\n",
    "    System.out.println(p_atual);\n",
    "    \n",
    "}"
   ]
  },
  {
   "cell_type": "markdown",
   "metadata": {},
   "source": [
    "### Desafio 1 / Parte 2 - Escrevendo módulos\n",
    "\n",
    "Reescreva o código acima de forma que seu programa faça uso de uma função que seja responsável pelo cálculo de uma parcela X do empréstimo. Podem ser usadas mais funções (métodos) conforme a necessidade."
   ]
  },
  {
   "cell_type": "code",
   "execution_count": 3,
   "metadata": {},
   "outputs": [
    {
     "data": {
      "text/plain": [
       "com.twosigma.beaker.javash.bkr1ac58f8d.Emprestimo"
      ]
     },
     "execution_count": 3,
     "metadata": {},
     "output_type": "execute_result"
    }
   ],
   "source": [
    "\n",
    "public class Emprestimo\n",
    "{\n",
    "    \n",
    "    //função que calcula uma parcela x\n",
    "    public static double NovaParcela(double p_atual, double j)\n",
    "    {\n",
    "        p_atual = p_atual * (1 + j);\n",
    "        return p_atual;\n",
    "    }\n",
    "    \n",
    "    public static void CalcularParcelas(double s, double j, int n)\n",
    "    {\n",
    "        double p_atual = s;\n",
    "        for(int i = 0; i < n; i++)\n",
    "        {\n",
    "            if(i != 0)\n",
    "            {\n",
    "                p_atual = Emprestimo.NovaParcela(p_atual, j);\n",
    "            }\n",
    "            System.out.println(\"O valor da parcela \" + (i+1) +  \" é \" + p_atual);\n",
    "        }\n",
    "    }   \n",
    "}\n",
    "\n",
    "\n"
   ]
  },
  {
   "cell_type": "code",
   "execution_count": 4,
   "metadata": {},
   "outputs": [
    {
     "name": "stdout",
     "output_type": "stream",
     "text": [
      "O valor da parcela 1 é 200.0\n",
      "O valor da parcela 2 é 202.0\n",
      "O valor da parcela 3 é 204.02\n",
      "O valor da parcela 4 é 206.0602\n",
      "O valor da parcela 5 é 208.120802\n"
     ]
    },
    {
     "data": {
      "text/plain": [
       "null"
      ]
     },
     "execution_count": 4,
     "metadata": {},
     "output_type": "execute_result"
    }
   ],
   "source": [
    "double s = 200;\n",
    "double j = 0.01;\n",
    "int n = 5;\n",
    "\n",
    "Emprestimo.CalcularParcelas(s, j, n);"
   ]
  },
  {
   "cell_type": "markdown",
   "metadata": {},
   "source": [
    "## Desafio 2\n",
    "\n",
    "Escreva um programa que sorteie um número inteiro entre `0` e `9999` o número deve ser mostrado, em seguida convertido para binário e a versão binária deve ser apresentada no console. A conversão decimal/binário deve ser computada por um programa feito por você."
   ]
  },
  {
   "cell_type": "code",
   "execution_count": 15,
   "metadata": {},
   "outputs": [
    {
     "data": {
      "text/plain": [
       "com.twosigma.beaker.javash.bkr4aad2072.Binario"
      ]
     },
     "execution_count": 15,
     "metadata": {},
     "output_type": "execute_result"
    }
   ],
   "source": [
    "import java.lang.*;\n",
    "public class Binario{\n",
    "    \n",
    "    public static void ConverterParaBinario(int numero)\n",
    "    {\n",
    "        int quociente = numero;\n",
    "        String binario = null;\n",
    "        \n",
    "        do\n",
    "        {\n",
    "            quociente = quociente/2;\n",
    "            int resto = quociente % 2;\n",
    "            String novo_digito = \"\"+resto;\n",
    "            binario = binario + novo_digito;\n",
    "            \n",
    "        }while(quociente != 1); //quando quiciente = 1 dividimos 2/2; logo, acabou \n",
    "    \n",
    "        System.out.println(binario);\n",
    "    }\n",
    "        \n",
    "}"
   ]
  },
  {
   "cell_type": "code",
   "execution_count": 16,
   "metadata": {},
   "outputs": [
    {
     "name": "stdout",
     "output_type": "stream",
     "text": [
      "null000001011111\n"
     ]
    },
    {
     "data": {
      "text/plain": [
       "null"
      ]
     },
     "execution_count": 16,
     "metadata": {},
     "output_type": "execute_result"
    }
   ],
   "source": [
    "import java.util.Random;\n",
    "\n",
    "Random rand = new Random();\n",
    "int numero = rand.nextInt(9999);\n",
    "\n",
    "Binario.ConverterParaBinario(numero);\n"
   ]
  },
  {
   "cell_type": "markdown",
   "metadata": {},
   "source": [
    "## Desafio 3\n",
    "\n",
    "Uma molécula de DNA pode ser definida a partir de uma cadeia que representa a sequência de suas bases:\n",
    "A - Adenina\n",
    "C - Citisina\n",
    "G - Guanina\n",
    "T - Tinina\n",
    "\n",
    "Desse modo, uma string pode ser usada para representar um segmento do DNA da seguinte maneira: `ATTACGCGCAAAC`.\n",
    "\n",
    "Escreva uma função (método) que codifique a cadeia de RNA produzida a partir de uma cadeia de DNA. A função deve ser genérica o suficiente para ser aplicável a qualquer cadeia. A entrada é uma string (DNA) e o retorno é uma string (RNA).\n",
    "\n",
    "Escreva um programa que teste esta função com uma cadeia de DNA de sua escolha."
   ]
  },
  {
   "cell_type": "code",
   "execution_count": 26,
   "metadata": {},
   "outputs": [
    {
     "data": {
      "text/plain": [
       "com.twosigma.beaker.javash.bkr1ac58f8d.Genetica"
      ]
     },
     "execution_count": 26,
     "metadata": {},
     "output_type": "execute_result"
    }
   ],
   "source": [
    "import java.lang.*;\n",
    "public class Genetica{\n",
    "    \n",
    "    public static void Conversao_DNA_RNA(String DNA){\n",
    "        \n",
    "        int tam = DNA.length();\n",
    "        String RNA = \"\";\n",
    "        \n",
    "        for(int i = 0; i < tam; i++){\n",
    "            \n",
    "            switch (DNA.charAt(i)) {\n",
    "              case 'A' : RNA = RNA + \"U\"; break;\n",
    "              case 'C' : RNA = RNA + \"G\"; break;\n",
    "              case 'G' : RNA = RNA + \"C\"; break;\n",
    "              case 'T' : RNA = RNA + \"A\"; break;\n",
    "              default: System.out.println(\"invalido\");\n",
    "            }\n",
    "            \n",
    "        }\n",
    "       System.out.println(RNA); \n",
    "    }\n",
    "}"
   ]
  },
  {
   "cell_type": "code",
   "execution_count": 27,
   "metadata": {},
   "outputs": [
    {
     "name": "stdout",
     "output_type": "stream",
     "text": [
      "UAAUGCGCGUUUG\n"
     ]
    },
    {
     "data": {
      "text/plain": [
       "null"
      ]
     },
     "execution_count": 27,
     "metadata": {},
     "output_type": "execute_result"
    }
   ],
   "source": [
    "String DNA = \"ATTACGCGCAAAC\";\n",
    "\n",
    "Genetica.Conversao_DNA_RNA(DNA);\n",
    "\n"
   ]
  },
  {
   "cell_type": "markdown",
   "metadata": {},
   "source": [
    "## Desafio 4\n",
    "\n",
    "Uma empresa precisa realizar uma estatística do salário de seus funcionários.\n",
    "\n",
    "Para fins de teste, os salários devem ser gerados aleatoriamente com valores variando entre R\\\\$ 2.500 e R\\\\$ 15.000.\n",
    "\n",
    "Escreva um programa que gere uma lista contendo os salários de 50 funcionários da empresa e mostre no console quantos funcionários ganham salário acima da média."
   ]
  },
  {
   "cell_type": "code",
   "execution_count": 13,
   "metadata": {},
   "outputs": [
    {
     "data": {
      "text/plain": [
       "com.twosigma.beaker.javash.bkr4aad2072.Salarios"
      ]
     },
     "execution_count": 13,
     "metadata": {},
     "output_type": "execute_result"
    }
   ],
   "source": [
    "import java.util.Random;\n",
    "\n",
    "public class Salarios{\n",
    " \n",
    "    public static float[] gerar_salarios(int num_funcionarios)\n",
    "    {\n",
    "        \n",
    "        float salarios[] = new float[num_funcionarios];\n",
    "        for(int i = 0; i < num_funcionarios; i++){\n",
    "            Random rand = new Random();\n",
    "            salarios[i] = rand.nextInt(12500) + 2500;\n",
    "        }\n",
    "        return salarios; \n",
    "    }\n",
    "    \n",
    "    public static float media_salarial(float[] salarios, int num_funcionarios)\n",
    "    {\n",
    "        int somatorio = 0;\n",
    "        for(int i = 0; i < num_funcionarios; i++){\n",
    "            somatorio += salarios[i];\n",
    "        }\n",
    "        return somatorio/num_funcionarios;\n",
    "    }\n",
    "\n",
    "    public static void salarios_acima_media(float[] salarios, int num_funcionarios, float media)\n",
    "    {\n",
    "        \n",
    "        int total = 0;\n",
    "        for(int i = 0; i < num_funcionarios; i++){\n",
    "            if (salarios[i] > media)\n",
    "                total += 1;          \n",
    "        }\n",
    "        System.out.println(total + \" funcionários ganham um salário superior à média \" + media);\n",
    "    }\n",
    "    \n",
    "}"
   ]
  },
  {
   "cell_type": "code",
   "execution_count": 14,
   "metadata": {},
   "outputs": [
    {
     "name": "stdout",
     "output_type": "stream",
     "text": [
      "23 funcionários ganham um salário superior à média 9003.0\n"
     ]
    },
    {
     "data": {
      "text/plain": [
       "null"
      ]
     },
     "execution_count": 14,
     "metadata": {},
     "output_type": "execute_result"
    }
   ],
   "source": [
    "int num_funcionarios = 50;\n",
    "\n",
    "float salarios[] = Salarios.gerar_salarios(num_funcionarios);\n",
    "\n",
    "float media = Salarios.media_salarial(salarios, num_funcionarios);\n",
    "\n",
    "Salarios.salarios_acima_media(salarios, num_funcionarios, media);"
   ]
  }
 ],
 "metadata": {
  "kernelspec": {
   "display_name": "Java",
   "language": "java",
   "name": "java"
  },
  "language_info": {
   "codemirror_mode": "text/x-java",
   "file_extension": ".java",
   "mimetype": "",
   "name": "Java",
   "nbconverter_exporter": "",
   "version": "1.8.0_121"
  }
 },
 "nbformat": 4,
 "nbformat_minor": 4
}