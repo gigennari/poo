{
 "cells": [
  {
   "cell_type": "markdown",
   "metadata": {},
   "source": [
    "# Exercício do Empréstimo\n",
    "\n",
    "Em um financiamento com juros compostos e número de parcelas fixas parte-se dos seguintes parâmetros:\n",
    "* `S` - valor da primeira parcela\n",
    "* `N` - número de parcelas\n",
    "* `J` - percentual de juros mensal\n",
    "\n",
    "A primeira parcela a ser paga do financiamento é sempre igual a `S`. A partir daí é feita uma atualização mensal da parcela, em que cada nova parcela é calculada a partir da parcela do mês anterior, conforme a fórmula:\n",
    "\n",
    "> #### Parcela<sub>mês</sub> = Parcela<sub>mês-1</sub> * (1 + `J` / 100)\n",
    "\n",
    "O financiamento encerra quando as `N` parcelas são pagas.\n",
    "\n",
    "Exemplo:\n",
    "* `S`: 200\n",
    "* `N`: 5\n",
    "* `J`: 1%\n",
    "\n",
    "Parcelas do financiamento:\n",
    "`200`; `202`; `204.02`; `206.06`; `208.12`"
   ]
  },
  {
   "cell_type": "markdown",
   "metadata": {},
   "source": [
    "## Exercício Parte 1 - Escrevendo um Módulo\n",
    "\n",
    "Dado o problema descrito, escreva um programa que calcule as parcelas de um empréstimo para os seguintes valores:\n",
    "* `S`: 200\n",
    "* `N`: 5\n",
    "* `J`: 1%"
   ]
  },
  {
   "cell_type": "code",
   "execution_count": 3,
   "metadata": {},
   "outputs": [
    {
     "name": "stdout",
     "output_type": "stream",
     "text": [
      "As parcelas do financiamento:\n",
      "200.00; 202.00; 204.02; 206.06; 208.12; \n"
     ]
    }
   ],
   "source": [
    "#include <stdio.h>\n",
    "\n",
    "int main(){\n",
    "\n",
    "    //parcela incial \n",
    "    float S = 200;    \n",
    "    //numero de parcelas \n",
    "    int N = 5;\n",
    "    //juros mensais em %\n",
    "    float J = 0.01;\n",
    "\n",
    "    printf(\"As parcelas do financiamento:\\n\");\n",
    "\n",
    "    \n",
    "    for (int i = 1; i =< N; i++){\n",
    "        printf(\"%.2f; \", S);\n",
    "        float S_novo = S * (1 + J);;\n",
    "        printf(\"%.2f; \", S_novo);\n",
    "        S = S_novo;\n",
    "    }\n",
    "    printf(\"\\n\");\n",
    "}"
   ]
  },
  {
   "cell_type": "markdown",
   "metadata": {},
   "source": [
    "## Exercício Parte 2 - Escrevendo um Módulo (Função)\n",
    "\n",
    "Reescreva o código acima de forma que seu programa faça uso de uma função `proximaParcela` que seja responsável pelo cálculo de uma única parcela X do empréstimo. Utilize as boas práticas de modularização que você aprendeu, evitando dependências do módulo com o programa principal. A função deve apenas calcular uma única parcela, portanto, ficará a cargo da função principal que chama `proximaParcela` realizar o restante do processo, para que sejam apresentadas todas as parcelas do financiamento.\n"
   ]
  },
  {
   "cell_type": "code",
   "execution_count": 1,
   "metadata": {},
   "outputs": [
    {
     "ename": "SyntaxError",
     "evalue": "invalid syntax (<ipython-input-1-4d8e77a5ed82>, line 4)",
     "output_type": "error",
     "traceback": [
      "\u001b[0;36m  File \u001b[0;32m\"<ipython-input-1-4d8e77a5ed82>\"\u001b[0;36m, line \u001b[0;32m4\u001b[0m\n\u001b[0;31m    float nova_parcela(int *i, int N, float S, float J, float *p){\u001b[0m\n\u001b[0m          ^\u001b[0m\n\u001b[0;31mSyntaxError\u001b[0m\u001b[0;31m:\u001b[0m invalid syntax\n"
     ]
    }
   ],
   "source": [
    "#include <stdio.h>\n",
    "#include <math.h>\n",
    "\n",
    "float nova_parcela(int *i, int n, float s, float j, float *p){\n",
    "    if(*i == 0){\n",
    "        *p = s;\n",
    "    }\n",
    "    else if (*i <= n){\n",
    "        *p = *p * (1 + j);\n",
    "    }\n",
    "    else{\n",
    "        *p = 0;\n",
    "    }\n",
    "    (*i)++;\n",
    "    \n",
    "    return *p;\n",
    "\n",
    "}\n",
    "\n",
    "int main(){\n",
    "\n",
    "    //parcela incial \n",
    "    float s = 200;    \n",
    "    //numero de parcelas \n",
    "    int n = 5;\n",
    "    //juros mensais em %\n",
    "    float j = 0.01;\n",
    "\n",
    "    int atual = 0;\n",
    "    float p = s;\n",
    "\n",
    "    printf(\"As parcelas do financiamento:\\n\");\n",
    "    for (int i = 0; i < n; i++){\n",
    "        p = nova_parcela(&atual, n, s, j, &p);\n",
    "        \n",
    "        printf(\"%.2f; \", p);\n",
    "    }   \n",
    "    return 0;\n",
    "}"
   ]
  },
  {
   "cell_type": "markdown",
   "metadata": {},
   "source": [
    "## Exercício Parte 3 - Mantendo o Estado\n",
    "\n",
    "Modifique a função (módulo) `proximaParcela` acima de modo que ela tenha uma memória da situação em que estão as coisas, sem que o `main` precise ficar informando novamente coisas que já informou no início. Para isso serão permitidas as seguintes modificações:\n",
    "\n",
    "1. você pode desmembrar a função em mais de uma, por exemplo, uma você chama no começo do empréstimo e outra a cada parcela;\n",
    "\n",
    "2. você pode usar técnicas de uso de variáveis não recomendadas que geram dependência dos módulos com o programa principal.\n",
    "\n",
    "Você deve organizar o código de tal maneira que o `main` informe para as funções os dados do financiamento apenas uma única vez e depois possa solicitar o cálculo da parcela subsequente sem informar tudo novamente."
   ]
  },
  {
   "cell_type": "code",
   "execution_count": 1,
   "metadata": {},
   "outputs": [
    {
     "ename": "SyntaxError",
     "evalue": "invalid syntax (<ipython-input-1-1bb7407917db>, line 3)",
     "output_type": "error",
     "traceback": [
      "\u001b[0;36m  File \u001b[0;32m\"<ipython-input-1-1bb7407917db>\"\u001b[0;36m, line \u001b[0;32m3\u001b[0m\n\u001b[0;31m    float NovaParcela(float s_anterior, float J){\u001b[0m\n\u001b[0m          ^\u001b[0m\n\u001b[0;31mSyntaxError\u001b[0m\u001b[0;31m:\u001b[0m invalid syntax\n"
     ]
    }
   ],
   "source": [
    "#include <stdio.h>\n",
    "#include <math.h> \n",
    "\n",
    "loat nova_parcela(float s, float j, int i){\n",
    "    *p = s * pow((1 + j), i);\n",
    "    return *p;\n",
    "\n",
    "}\n",
    "\n",
    "void calcular_parcelas(float s, float n, float j){\n",
    "    printf(\"As parcelas do financiamento:\\n\");\n",
    "    \n",
    "    float p = s;\n",
    "\n",
    "    for (int i = 0; i < N; i++){\n",
    "        \n",
    "        float *p = nova_parcela(s, j, i);\n",
    "        printf(\"%.2f; \", p);\n",
    "        \n",
    "    }\n",
    "    printf(\"\\n\");\n",
    "}\n",
    "\n",
    "int main(){\n",
    "\n",
    "    //parcela incial \n",
    "    float S = 200;    \n",
    "    //numero de parcelas \n",
    "    int N = 5;\n",
    "    //juros mensais em %\n",
    "    float J = 0.01;\n",
    "\n",
    "    calcular_parcelas();\n",
    "\n",
    "    return 0;\n",
    "}"
   ]
  },
  {
   "cell_type": "markdown",
   "metadata": {},
   "source": [
    "## Exercício Parte 4 - Minimizando os Parâmetros\n",
    "\n",
    "Partindo da Solução da Parte 2, modifique a forma como você representa o empréstimo, de forma que a função que calcula a próxima parcela receba um único parâmetro."
   ]
  },
  {
   "cell_type": "code",
   "execution_count": 1,
   "metadata": {},
   "outputs": [
    {
     "ename": "SyntaxError",
     "evalue": "invalid syntax (<ipython-input-1-5a867ea2832b>, line 3)",
     "output_type": "error",
     "traceback": [
      "\u001b[0;36m  File \u001b[0;32m\"<ipython-input-1-5a867ea2832b>\"\u001b[0;36m, line \u001b[0;32m3\u001b[0m\n\u001b[0;31m    typedef struct{\u001b[0m\n\u001b[0m            ^\u001b[0m\n\u001b[0;31mSyntaxError\u001b[0m\u001b[0;31m:\u001b[0m invalid syntax\n"
     ]
    }
   ],
   "source": [
    "#include <stdio.h>\n",
    "\n",
    "typedef struct{\n",
    "    int n, i;\n",
    "    float s, j, p_atual;\n",
    "\n",
    "}Emprestimo;\n",
    "\n",
    "Emprestimo proxima_parcela(Emprestimo e){\n",
    " \n",
    "    e->p_atual = e->p_atual * (1 + e->j);\n",
    "    return e;\n",
    "}\n",
    "\n",
    "void calcular_parcelas(Emprestimo e){\n",
    "    printf(\"As parcelas do financiamento:\\n\");\n",
    "    while(e->i < e->n){\n",
    "        e = proxima_pacela(e);\n",
    "        printf(\"%.2f\", e->p_atual);\n",
    "    }\n",
    "}\n",
    "\n",
    "int main(){\n",
    "    Emprestimo emprestimo1;\n",
    "    emprestimo1->n = 5;\n",
    "    emprestimo1->s = 200;\n",
    "    emprestimo->j = 0.01;\n",
    "    \n",
    "    calcular_parcelas(emprestimo1);\n",
    "    return 0;\n",
    "}\n"
   ]
  },
  {
   "cell_type": "markdown",
   "metadata": {},
   "source": [
    "## Exercício Parte 5 - Múltiplos Empréstimos\n",
    "\n",
    "Considere que há múltiplos empréstimos que podem ser controlados em paralelo. O seu programa deve ser capaz de informar as parcelas de mais de um empréstimo, mantendo um controle para cada empréstimo separadamente. Você deve decidir qual das soluções tomará como ponto de partida, se deve modificar o programa principal, a função ou ambos para atender esse requisito da melhor forma possível.\n",
    "\n",
    "Por exemplo, suponha os seguintes dois empréstimos em paralelo:\n",
    "\n",
    "### Empréstimo 1\n",
    "* `S`: 200\n",
    "* `N`: 5\n",
    "* `J`: 1%\n",
    "\n",
    "### Empréstimo 2\n",
    "* `S`: 500\n",
    "* `N`: 7\n",
    "* `J`: 2%\n",
    "\n",
    "A saída esperada é:\n",
    "~~~\n",
    "Emprestimo 1: parcela 1 eh 200.00\n",
    "Emprestimo 2: parcela 1 eh 500.00\n",
    "Emprestimo 1: parcela 2 eh 202.00\n",
    "Emprestimo 2: parcela 2 eh 510.00\n",
    "Emprestimo 1: parcela 3 eh 204.02\n",
    "Emprestimo 2: parcela 3 eh 520.20\n",
    "Emprestimo 1: parcela 4 eh 206.06\n",
    "Emprestimo 2: parcela 4 eh 530.60\n",
    "Emprestimo 1: parcela 5 eh 208.12\n",
    "Emprestimo 2: parcela 5 eh 541.22\n",
    "Emprestimo 2: parcela 6 eh 552.04\n",
    "Emprestimo 2: parcela 7 eh 563.08\n",
    "~~~\n",
    "\n",
    "O exemplo mostra dois empréstimos, mas a estrutura deve ser genérica o suficiente para controlar N empréstimos em paralelo."
   ]
  },
  {
   "cell_type": "code",
   "execution_count": 5,
   "metadata": {},
   "outputs": [
    {
     "ename": "SyntaxError",
     "evalue": "invalid syntax (<ipython-input-5-11b570d6e82f>, line 1)",
     "output_type": "error",
     "traceback": [
      "\u001b[0;36m  File \u001b[0;32m\"<ipython-input-5-11b570d6e82f>\"\u001b[0;36m, line \u001b[0;32m1\u001b[0m\n\u001b[0;31m    **()\u001b[0m\n\u001b[0m    ^\u001b[0m\n\u001b[0;31mSyntaxError\u001b[0m\u001b[0;31m:\u001b[0m invalid syntax\n"
     ]
    }
   ],
   "source": [
    "/**\n",
    " * Guarda o registro inteiro \n",
    " * */\n",
    "\n",
    "typedef struct Emprestimo{\n",
    "    int n, i;\n",
    "    float s, j, p_atual;\n",
    "    struct Emprestimo *prox;\n",
    "\n",
    "}Emprestimo;\n",
    "\n",
    "/**\n",
    " * Guarda o enedereço de um registro\n",
    " * */\n",
    "typedef struct No *p_emp;\n",
    "\n",
    "/**\n",
    " * Na primeira lista, p_no aponta para NULL \n",
    " * */\n",
    "p_emp criar_lista()\n",
    "{\n",
    "    return NULL;\n",
    "}\n",
    "\n",
    "/**\n",
    " * Adiciona elemento no começo das listas ligadas \n",
    " * Então a primeira lista vira a segunda\n",
    " *  O(n)\n",
    " * */\n",
    "p_emp adicionar_emprestimo(p_emp lista_antiga, p_emp emp_novo)\n",
    "{\n",
    "\n",
    "    if(lista_antiga != NULL){\n",
    "       emp_novo->prox = lista_antiga; //a lista antiga é o próximo nó \n",
    "    }\n",
    "    return emp_novo;\n",
    "}\n",
    "\n",
    "p_emp criar_emprestimo(int n, float s, float j){\n",
    "    emp_novo = malloc(sizeof(Emprestimo));\n",
    "    emp_novo->i = 0;\n",
    "    emp_novo->n = n;\n",
    "    emp->novo->s = s;\n",
    "    emp_novo->j = j;\n",
    "    emp_novo->p_atual = s;\n",
    "    emp_novo->prox = NULL;\n",
    "    return emp_novo;\n",
    "}\n",
    "\n",
    "float proxima_parcela(Emprestimo e){\n",
    " \n",
    "\n",
    "    e->p_atual = e->p_atual * (1 + e->j);\n",
    "    return e;\n",
    "}\n",
    "\n",
    "void calcular_parcelas(p_emp e){\n",
    "    do{\n",
    "        if(e->i =< e->n){\n",
    "            e->p_atual = proxima_parcela(e);\n",
    "            printf(\"%.2f\", e->p_atual);\n",
    "        }\n",
    "                \n",
    "    }while(e->prox != NULL);\n",
    "}\n",
    "\n",
    "int main(){\n",
    "    lista_emprestimos = criar_lista();\n",
    "    p_emp e1 = criar_emprestimo(5, 200, 0.01);\n",
    "    p_emp e2 = criar_emprestimo\n",
    "    \n",
    "}"
   ]
  },
  {
   "cell_type": "code",
   "execution_count": null,
   "metadata": {},
   "outputs": [],
   "source": []
  }
 ],
 "metadata": {
  "kernelspec": {
   "display_name": "Python 3.8.5 64-bit",
   "language": "python",
   "name": "python38564bitedd1c4db7a9347fcaa59a8245afe37ce"
  },
  "language_info": {
   "codemirror_mode": {
    "name": "ipython",
    "version": 3
   },
   "file_extension": ".py",
   "mimetype": "text/x-python",
   "name": "python",
   "nbconvert_exporter": "python",
   "pygments_lexer": "ipython3",
   "version": "3.8.5"
  }
 },
 "nbformat": 4,
 "nbformat_minor": 4
}
